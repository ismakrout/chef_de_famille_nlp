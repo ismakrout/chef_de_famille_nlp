{
 "cells": [
  {
   "cell_type": "code",
   "execution_count": 5,
   "metadata": {},
   "outputs": [],
   "source": [
    "# Importations\n",
    "import pandas as pd\n",
    "import warnings\n",
    "import numpy as np\n",
    "import gensim\n",
    "\n",
    "import torch\n",
    "import torch.nn as nn\n",
    "\n",
    "warnings.filterwarnings('ignore')"
   ]
  },
  {
   "cell_type": "markdown",
   "metadata": {},
   "source": [
    "### Data processing"
   ]
  },
  {
   "cell_type": "code",
   "execution_count": 6,
   "metadata": {
    "execution": {
     "iopub.execute_input": "2024-04-25T12:52:10.092261Z",
     "iopub.status.busy": "2024-04-25T12:52:10.091956Z",
     "iopub.status.idle": "2024-04-25T12:52:10.256003Z",
     "shell.execute_reply": "2024-04-25T12:52:10.255185Z",
     "shell.execute_reply.started": "2024-04-25T12:52:10.092236Z"
    },
    "trusted": true
   },
   "outputs": [],
   "source": [
    "df = pd.read_csv(\"entities.csv\", sep='delimiter', header=None)\n",
    "df = df[0].str.split(',', expand=True)"
   ]
  },
  {
   "cell_type": "code",
   "execution_count": 7,
   "metadata": {
    "execution": {
     "iopub.execute_input": "2024-04-25T12:52:10.257388Z",
     "iopub.status.busy": "2024-04-25T12:52:10.257090Z",
     "iopub.status.idle": "2024-04-25T12:52:10.330629Z",
     "shell.execute_reply": "2024-04-25T12:52:10.329549Z",
     "shell.execute_reply.started": "2024-04-25T12:52:10.257364Z"
    },
    "trusted": true
   },
   "outputs": [],
   "source": [
    "df = df.iloc[1:, :2].reset_index(drop=True).rename(columns={0:\"text\", 1:'label'})\n",
    "\n",
    "df = df.loc[(df['text'].str.len() > 20) & (df['text'].str.len() < 80)]\n",
    "\n",
    "df.loc[df['label'] == 'True', 'label'] = 1\n",
    "df.loc[df['label'] == 'False', 'label'] = 0\n",
    "\n",
    "df = df.loc[df['label'].isin([0,1])]\n",
    "df['label'] = df['label'].astype(np.float32)\n",
    "\n",
    "# On se ramène a l'implémentation de Hugging Face\n",
    "texts = list(df['text'])\n",
    "labels = list(df['label'])\n"
   ]
  },
  {
   "cell_type": "code",
   "execution_count": 8,
   "metadata": {
    "execution": {
     "iopub.execute_input": "2024-04-25T12:52:10.332025Z",
     "iopub.status.busy": "2024-04-25T12:52:10.331763Z",
     "iopub.status.idle": "2024-04-25T12:52:11.714432Z",
     "shell.execute_reply": "2024-04-25T12:52:11.713156Z",
     "shell.execute_reply.started": "2024-04-25T12:52:10.332003Z"
    },
    "trusted": true
   },
   "outputs": [],
   "source": [
    "from sklearn.model_selection import train_test_split\n",
    "train_texts, test_texts, train_labels, test_labels = train_test_split(texts, labels, test_size=.1)\n",
    "train_texts, val_texts, train_labels, val_labels = train_test_split(train_texts, train_labels, test_size=.2)"
   ]
  },
  {
   "cell_type": "code",
   "execution_count": 9,
   "metadata": {
    "execution": {
     "iopub.execute_input": "2024-04-25T12:52:11.718590Z",
     "iopub.status.busy": "2024-04-25T12:52:11.718107Z",
     "iopub.status.idle": "2024-04-25T12:52:11.737500Z",
     "shell.execute_reply": "2024-04-25T12:52:11.736722Z",
     "shell.execute_reply.started": "2024-04-25T12:52:11.718551Z"
    },
    "trusted": true
   },
   "outputs": [],
   "source": [
    "from sklearn.preprocessing import OneHotEncoder\n",
    "\n",
    "encoder = OneHotEncoder(sparse=False)\n",
    "train_labels_encoded = encoder.fit_transform(np.array(train_labels).reshape(-1,1))\n",
    "test_labels_encoded = encoder.fit_transform(np.array(test_labels).reshape(-1,1))\n",
    "val_labels_encoded = encoder.fit_transform(np.array(val_labels).reshape(-1,1))"
   ]
  },
  {
   "cell_type": "markdown",
   "metadata": {},
   "source": [
    "### Stats descriptives"
   ]
  },
  {
   "cell_type": "code",
   "execution_count": 13,
   "metadata": {},
   "outputs": [
    {
     "data": {
      "text/html": [
       "<div>\n",
       "<style scoped>\n",
       "    .dataframe tbody tr th:only-of-type {\n",
       "        vertical-align: middle;\n",
       "    }\n",
       "\n",
       "    .dataframe tbody tr th {\n",
       "        vertical-align: top;\n",
       "    }\n",
       "\n",
       "    .dataframe thead th {\n",
       "        text-align: right;\n",
       "    }\n",
       "</style>\n",
       "<table border=\"1\" class=\"dataframe\">\n",
       "  <thead>\n",
       "    <tr style=\"text-align: right;\">\n",
       "      <th></th>\n",
       "      <th>text</th>\n",
       "      <th>label</th>\n",
       "    </tr>\n",
       "  </thead>\n",
       "  <tbody>\n",
       "    <tr>\n",
       "      <th>1</th>\n",
       "      <td>Ferazzi Auguste vitrier 30 Garçon Piémontaise</td>\n",
       "      <td>1.0</td>\n",
       "    </tr>\n",
       "    <tr>\n",
       "      <th>2</th>\n",
       "      <td>Machol Pierre vitrier 24 Garçon Piémontaise</td>\n",
       "      <td>1.0</td>\n",
       "    </tr>\n",
       "    <tr>\n",
       "      <th>3</th>\n",
       "      <td>Desbois Alexandre prop re 48 Homme marié franç...</td>\n",
       "      <td>1.0</td>\n",
       "    </tr>\n",
       "    <tr>\n",
       "      <th>7</th>\n",
       "      <td>Desbroper François Jules aumônier du collège 4...</td>\n",
       "      <td>1.0</td>\n",
       "    </tr>\n",
       "    <tr>\n",
       "      <th>9</th>\n",
       "      <td>de Chaumont 40 Homme marié française</td>\n",
       "      <td>1.0</td>\n",
       "    </tr>\n",
       "    <tr>\n",
       "      <th>15</th>\n",
       "      <td>Allemant Philippe tailleur 45 Homme marié fran...</td>\n",
       "      <td>1.0</td>\n",
       "    </tr>\n",
       "    <tr>\n",
       "      <th>17</th>\n",
       "      <td>Gaucheron Joachim Florentin pharmacien 30 Homm...</td>\n",
       "      <td>1.0</td>\n",
       "    </tr>\n",
       "    <tr>\n",
       "      <th>23</th>\n",
       "      <td>des Tureaux Henri courtier de commerce 32 Homm...</td>\n",
       "      <td>1.0</td>\n",
       "    </tr>\n",
       "    <tr>\n",
       "      <th>27</th>\n",
       "      <td>Paulin Michel Jean agent doyen en chef 48 Homm...</td>\n",
       "      <td>1.0</td>\n",
       "    </tr>\n",
       "    <tr>\n",
       "      <th>30</th>\n",
       "      <td>Moullier Abel Emile employé 27 Homme marié fra...</td>\n",
       "      <td>1.0</td>\n",
       "    </tr>\n",
       "    <tr>\n",
       "      <th>37</th>\n",
       "      <td>Furet Elie tourneur chef P.O 1877 française Ce...</td>\n",
       "      <td>1.0</td>\n",
       "    </tr>\n",
       "    <tr>\n",
       "      <th>42</th>\n",
       "      <td>Poitout Gaston Fernand Eugène cocher chef 1879...</td>\n",
       "      <td>1.0</td>\n",
       "    </tr>\n",
       "    <tr>\n",
       "      <th>46</th>\n",
       "      <td>Debard Louis journalier chef Charpentier 1872 ...</td>\n",
       "      <td>1.0</td>\n",
       "    </tr>\n",
       "    <tr>\n",
       "      <th>52</th>\n",
       "      <td>Hatton Germaine domestique chef 1860 française</td>\n",
       "      <td>1.0</td>\n",
       "    </tr>\n",
       "    <tr>\n",
       "      <th>53</th>\n",
       "      <td>Violette Marie ménagère chef 1869 française Vo...</td>\n",
       "      <td>1.0</td>\n",
       "    </tr>\n",
       "    <tr>\n",
       "      <th>56</th>\n",
       "      <td>Furet Eugénie giletière chef patron 1881 franç...</td>\n",
       "      <td>1.0</td>\n",
       "    </tr>\n",
       "    <tr>\n",
       "      <th>58</th>\n",
       "      <td>Pavie Léonide journalière chef 1849 française ...</td>\n",
       "      <td>1.0</td>\n",
       "    </tr>\n",
       "    <tr>\n",
       "      <th>59</th>\n",
       "      <td>Martin Adrien journalier chef Ménard 1850 fran...</td>\n",
       "      <td>1.0</td>\n",
       "    </tr>\n",
       "    <tr>\n",
       "      <th>61</th>\n",
       "      <td>Delahaye Thérèse néant chef 1826 française Pon...</td>\n",
       "      <td>1.0</td>\n",
       "    </tr>\n",
       "    <tr>\n",
       "      <th>62</th>\n",
       "      <td>Robichon Pierre François idem idem 1856 frança...</td>\n",
       "      <td>1.0</td>\n",
       "    </tr>\n",
       "    <tr>\n",
       "      <th>66</th>\n",
       "      <td>Jacque Amélie sans profession chef 1863 idem</td>\n",
       "      <td>1.0</td>\n",
       "    </tr>\n",
       "    <tr>\n",
       "      <th>70</th>\n",
       "      <td>Chevrette Louis employé chez cordonnier chef c...</td>\n",
       "      <td>1.0</td>\n",
       "    </tr>\n",
       "    <tr>\n",
       "      <th>72</th>\n",
       "      <td>Debien Solange Tiseuse épouse Rène Renaud 1901...</td>\n",
       "      <td>1.0</td>\n",
       "    </tr>\n",
       "    <tr>\n",
       "      <th>74</th>\n",
       "      <td>Boisgibauet Louis confectionneur à façon chef ...</td>\n",
       "      <td>1.0</td>\n",
       "    </tr>\n",
       "    <tr>\n",
       "      <th>79</th>\n",
       "      <td>Fronteau Charlotte manutentionnaire chef Mèré ...</td>\n",
       "      <td>1.0</td>\n",
       "    </tr>\n",
       "    <tr>\n",
       "      <th>81</th>\n",
       "      <td>Donadieu Piere Chiffonnier chef patron 1882 id...</td>\n",
       "      <td>1.0</td>\n",
       "    </tr>\n",
       "    <tr>\n",
       "      <th>87</th>\n",
       "      <td>Richard Suzanne ménagère 1894 idem Orléans</td>\n",
       "      <td>1.0</td>\n",
       "    </tr>\n",
       "    <tr>\n",
       "      <th>88</th>\n",
       "      <td>Chandezon Raymond menuisier chef Chandezon fg ...</td>\n",
       "      <td>1.0</td>\n",
       "    </tr>\n",
       "    <tr>\n",
       "      <th>91</th>\n",
       "      <td>Turban alix sans profession chef idem Artenay</td>\n",
       "      <td>1.0</td>\n",
       "    </tr>\n",
       "    <tr>\n",
       "      <th>93</th>\n",
       "      <td>Glenat Charles domestique chef 1877 idem Paris</td>\n",
       "      <td>1.0</td>\n",
       "    </tr>\n",
       "    <tr>\n",
       "      <th>100</th>\n",
       "      <td>Houy Magloire emp. à la mairie 29 Homme marié ...</td>\n",
       "      <td>1.0</td>\n",
       "    </tr>\n",
       "    <tr>\n",
       "      <th>102</th>\n",
       "      <td>Gauvin Augustin chef machiniste 39 Homme marié</td>\n",
       "      <td>1.0</td>\n",
       "    </tr>\n",
       "    <tr>\n",
       "      <th>105</th>\n",
       "      <td>Rivalier Alexandre chauffeur 37 Homme marié Cr...</td>\n",
       "      <td>1.0</td>\n",
       "    </tr>\n",
       "    <tr>\n",
       "      <th>107</th>\n",
       "      <td>Boucher Jean retraité 50 Homme marié Oise</td>\n",
       "      <td>1.0</td>\n",
       "    </tr>\n",
       "    <tr>\n",
       "      <th>111</th>\n",
       "      <td>Bidoux Louis chauffeur 57 Homme marié Loiret</td>\n",
       "      <td>1.0</td>\n",
       "    </tr>\n",
       "    <tr>\n",
       "      <th>117</th>\n",
       "      <td>Gabion Jean Baptiste emp au comptoir d'escompt...</td>\n",
       "      <td>1.0</td>\n",
       "    </tr>\n",
       "    <tr>\n",
       "      <th>121</th>\n",
       "      <td>Ribot ve Gabion Madeleine rentière 65 Veuve idem</td>\n",
       "      <td>1.0</td>\n",
       "    </tr>\n",
       "    <tr>\n",
       "      <th>122</th>\n",
       "      <td>Closset veuve Duamin Adélaide 79 Veuve idem</td>\n",
       "      <td>1.0</td>\n",
       "    </tr>\n",
       "    <tr>\n",
       "      <th>123</th>\n",
       "      <td>Frérot Jean limier 47 Homme marié Belgique</td>\n",
       "      <td>1.0</td>\n",
       "    </tr>\n",
       "    <tr>\n",
       "      <th>127</th>\n",
       "      <td>Courtin Marie 74 Veuve française</td>\n",
       "      <td>1.0</td>\n",
       "    </tr>\n",
       "    <tr>\n",
       "      <th>128</th>\n",
       "      <td>Barberon Désiré cafetier 33 Homme marié française</td>\n",
       "      <td>1.0</td>\n",
       "    </tr>\n",
       "    <tr>\n",
       "      <th>131</th>\n",
       "      <td>Lichy Antoine peintre 36 Homme marié française...</td>\n",
       "      <td>1.0</td>\n",
       "    </tr>\n",
       "    <tr>\n",
       "      <th>136</th>\n",
       "      <td>Bargé Antoine 40 Homme marié française idem</td>\n",
       "      <td>1.0</td>\n",
       "    </tr>\n",
       "    <tr>\n",
       "      <th>139</th>\n",
       "      <td>Dupuis Léon emp au ch de fer 33 Homme marié fr...</td>\n",
       "      <td>1.0</td>\n",
       "    </tr>\n",
       "    <tr>\n",
       "      <th>145</th>\n",
       "      <td>Rime Alfred 35 Homme marié française idem</td>\n",
       "      <td>1.0</td>\n",
       "    </tr>\n",
       "    <tr>\n",
       "      <th>154</th>\n",
       "      <td>Renard Jean 33 Homme marié française Loiret</td>\n",
       "      <td>1.0</td>\n",
       "    </tr>\n",
       "    <tr>\n",
       "      <th>155</th>\n",
       "      <td>Gault Charles menuisier chef 30</td>\n",
       "      <td>1.0</td>\n",
       "    </tr>\n",
       "    <tr>\n",
       "      <th>158</th>\n",
       "      <td>Laigneau vue Baseau Marie propre chef 68</td>\n",
       "      <td>1.0</td>\n",
       "    </tr>\n",
       "    <tr>\n",
       "      <th>161</th>\n",
       "      <td>Pointeau Ernest horloger chef 38</td>\n",
       "      <td>1.0</td>\n",
       "    </tr>\n",
       "    <tr>\n",
       "      <th>163</th>\n",
       "      <td>Poirier Jules employé chef 31</td>\n",
       "      <td>1.0</td>\n",
       "    </tr>\n",
       "  </tbody>\n",
       "</table>\n",
       "</div>"
      ],
      "text/plain": [
       "                                                  text  label\n",
       "1        Ferazzi Auguste vitrier 30 Garçon Piémontaise    1.0\n",
       "2          Machol Pierre vitrier 24 Garçon Piémontaise    1.0\n",
       "3    Desbois Alexandre prop re 48 Homme marié franç...    1.0\n",
       "7    Desbroper François Jules aumônier du collège 4...    1.0\n",
       "9                 de Chaumont 40 Homme marié française    1.0\n",
       "15   Allemant Philippe tailleur 45 Homme marié fran...    1.0\n",
       "17   Gaucheron Joachim Florentin pharmacien 30 Homm...    1.0\n",
       "23   des Tureaux Henri courtier de commerce 32 Homm...    1.0\n",
       "27   Paulin Michel Jean agent doyen en chef 48 Homm...    1.0\n",
       "30   Moullier Abel Emile employé 27 Homme marié fra...    1.0\n",
       "37   Furet Elie tourneur chef P.O 1877 française Ce...    1.0\n",
       "42   Poitout Gaston Fernand Eugène cocher chef 1879...    1.0\n",
       "46   Debard Louis journalier chef Charpentier 1872 ...    1.0\n",
       "52      Hatton Germaine domestique chef 1860 française    1.0\n",
       "53   Violette Marie ménagère chef 1869 française Vo...    1.0\n",
       "56   Furet Eugénie giletière chef patron 1881 franç...    1.0\n",
       "58   Pavie Léonide journalière chef 1849 française ...    1.0\n",
       "59   Martin Adrien journalier chef Ménard 1850 fran...    1.0\n",
       "61   Delahaye Thérèse néant chef 1826 française Pon...    1.0\n",
       "62   Robichon Pierre François idem idem 1856 frança...    1.0\n",
       "66        Jacque Amélie sans profession chef 1863 idem    1.0\n",
       "70   Chevrette Louis employé chez cordonnier chef c...    1.0\n",
       "72   Debien Solange Tiseuse épouse Rène Renaud 1901...    1.0\n",
       "74   Boisgibauet Louis confectionneur à façon chef ...    1.0\n",
       "79   Fronteau Charlotte manutentionnaire chef Mèré ...    1.0\n",
       "81   Donadieu Piere Chiffonnier chef patron 1882 id...    1.0\n",
       "87          Richard Suzanne ménagère 1894 idem Orléans    1.0\n",
       "88   Chandezon Raymond menuisier chef Chandezon fg ...    1.0\n",
       "91       Turban alix sans profession chef idem Artenay    1.0\n",
       "93      Glenat Charles domestique chef 1877 idem Paris    1.0\n",
       "100  Houy Magloire emp. à la mairie 29 Homme marié ...    1.0\n",
       "102     Gauvin Augustin chef machiniste 39 Homme marié    1.0\n",
       "105  Rivalier Alexandre chauffeur 37 Homme marié Cr...    1.0\n",
       "107          Boucher Jean retraité 50 Homme marié Oise    1.0\n",
       "111       Bidoux Louis chauffeur 57 Homme marié Loiret    1.0\n",
       "117  Gabion Jean Baptiste emp au comptoir d'escompt...    1.0\n",
       "121   Ribot ve Gabion Madeleine rentière 65 Veuve idem    1.0\n",
       "122        Closset veuve Duamin Adélaide 79 Veuve idem    1.0\n",
       "123         Frérot Jean limier 47 Homme marié Belgique    1.0\n",
       "127                   Courtin Marie 74 Veuve française    1.0\n",
       "128  Barberon Désiré cafetier 33 Homme marié française    1.0\n",
       "131  Lichy Antoine peintre 36 Homme marié française...    1.0\n",
       "136        Bargé Antoine 40 Homme marié française idem    1.0\n",
       "139  Dupuis Léon emp au ch de fer 33 Homme marié fr...    1.0\n",
       "145          Rime Alfred 35 Homme marié française idem    1.0\n",
       "154        Renard Jean 33 Homme marié française Loiret    1.0\n",
       "155                    Gault Charles menuisier chef 30    1.0\n",
       "158           Laigneau vue Baseau Marie propre chef 68    1.0\n",
       "161                   Pointeau Ernest horloger chef 38    1.0\n",
       "163                      Poirier Jules employé chef 31    1.0"
      ]
     },
     "execution_count": 13,
     "metadata": {},
     "output_type": "execute_result"
    }
   ],
   "source": [
    "df.loc[df['label'] == 1].head(50)"
   ]
  },
  {
   "cell_type": "markdown",
   "metadata": {},
   "source": [
    "### Model CamemBert"
   ]
  },
  {
   "cell_type": "code",
   "execution_count": null,
   "metadata": {
    "execution": {
     "iopub.execute_input": "2024-04-25T12:52:11.739084Z",
     "iopub.status.busy": "2024-04-25T12:52:11.738744Z",
     "iopub.status.idle": "2024-04-25T12:52:16.435119Z",
     "shell.execute_reply": "2024-04-25T12:52:16.434078Z",
     "shell.execute_reply.started": "2024-04-25T12:52:11.739046Z"
    },
    "trusted": true
   },
   "outputs": [],
   "source": [
    "from transformers import CamembertTokenizer\n",
    "tokenizer = CamembertTokenizer.from_pretrained(\"camembert-base\")"
   ]
  },
  {
   "cell_type": "code",
   "execution_count": null,
   "metadata": {
    "execution": {
     "iopub.execute_input": "2024-04-25T12:52:16.437008Z",
     "iopub.status.busy": "2024-04-25T12:52:16.436507Z",
     "iopub.status.idle": "2024-04-25T12:52:19.471819Z",
     "shell.execute_reply": "2024-04-25T12:52:19.470903Z",
     "shell.execute_reply.started": "2024-04-25T12:52:16.436978Z"
    },
    "trusted": true
   },
   "outputs": [],
   "source": [
    "train_encodings = tokenizer(train_texts, truncation=True, padding=True)\n",
    "val_encodings = tokenizer(val_texts, truncation=True, padding=True)\n",
    "test_encodings = tokenizer(test_texts, truncation=True, padding=True)"
   ]
  },
  {
   "cell_type": "code",
   "execution_count": null,
   "metadata": {
    "execution": {
     "iopub.execute_input": "2024-04-25T12:52:19.473503Z",
     "iopub.status.busy": "2024-04-25T12:52:19.473125Z",
     "iopub.status.idle": "2024-04-25T12:52:19.478758Z",
     "shell.execute_reply": "2024-04-25T12:52:19.477733Z",
     "shell.execute_reply.started": "2024-04-25T12:52:19.473468Z"
    },
    "trusted": true
   },
   "outputs": [],
   "source": [
    "train_labels_encoded = train_labels_encoded.astype(np.float32)"
   ]
  },
  {
   "cell_type": "code",
   "execution_count": null,
   "metadata": {
    "execution": {
     "iopub.execute_input": "2024-04-25T12:52:19.480283Z",
     "iopub.status.busy": "2024-04-25T12:52:19.479983Z",
     "iopub.status.idle": "2024-04-25T12:52:19.489190Z",
     "shell.execute_reply": "2024-04-25T12:52:19.488161Z",
     "shell.execute_reply.started": "2024-04-25T12:52:19.480257Z"
    },
    "trusted": true
   },
   "outputs": [],
   "source": [
    "import torch\n",
    "\n",
    "class IMDbDataset(torch.utils.data.Dataset):\n",
    "    def __init__(self, encodings, labels):\n",
    "        self.encodings = encodings\n",
    "        self.labels = labels\n",
    "\n",
    "    def __getitem__(self, idx):\n",
    "        item = {key: torch.tensor(val[idx]) for key, val in self.encodings.items()}\n",
    "        item['labels'] = torch.tensor(self.labels[idx])\n",
    "        return item\n",
    "\n",
    "    def __len__(self):\n",
    "        return len(self.labels)\n",
    "\n",
    "train_dataset = IMDbDataset(train_encodings, train_labels_encoded)\n",
    "val_dataset = IMDbDataset(val_encodings, val_labels_encoded)\n",
    "test_dataset = IMDbDataset(test_encodings, test_labels_encoded)"
   ]
  },
  {
   "cell_type": "code",
   "execution_count": null,
   "metadata": {
    "execution": {
     "iopub.execute_input": "2024-04-25T12:52:19.490814Z",
     "iopub.status.busy": "2024-04-25T12:52:19.490440Z",
     "iopub.status.idle": "2024-04-25T13:14:41.754253Z",
     "shell.execute_reply": "2024-04-25T13:14:41.753170Z",
     "shell.execute_reply.started": "2024-04-25T12:52:19.490779Z"
    },
    "trusted": true
   },
   "outputs": [
    {
     "data": {
      "application/vnd.jupyter.widget-view+json": {
       "model_id": "48e9b88411634da9982ce866f97e5c9c",
       "version_major": 2,
       "version_minor": 0
      },
      "text/plain": [
       "model.safetensors:   0%|          | 0.00/445M [00:00<?, ?B/s]"
      ]
     },
     "metadata": {},
     "output_type": "display_data"
    },
    {
     "name": "stderr",
     "output_type": "stream",
     "text": [
      "Some weights of CamembertForSequenceClassification were not initialized from the model checkpoint at camembert-base and are newly initialized: ['classifier.dense.bias', 'classifier.dense.weight', 'classifier.out_proj.bias', 'classifier.out_proj.weight']\n",
      "You should probably TRAIN this model on a down-stream task to be able to use it for predictions and inference.\n"
     ]
    },
    {
     "name": "stdout",
     "output_type": "stream",
     "text": [
      "0\n",
      "1\n",
      "2\n",
      "3\n",
      "4\n",
      "5\n",
      "6\n",
      "7\n",
      "8\n",
      "9\n",
      "10\n",
      "11\n",
      "12\n",
      "13\n",
      "14\n"
     ]
    }
   ],
   "source": [
    "from torch.utils.data import DataLoader\n",
    "from transformers import CamembertForSequenceClassification, AdamW\n",
    "\n",
    "device = torch.device('cuda') if torch.cuda.is_available() else torch.device('cpu')\n",
    "\n",
    "model = CamembertForSequenceClassification.from_pretrained('camembert-base')\n",
    "model.to(device)\n",
    "model.train()\n",
    "\n",
    "train_loader = DataLoader(train_dataset, batch_size=256, shuffle=True)\n",
    "val_loader = DataLoader(val_dataset, batch_size=256, shuffle=True)\n",
    "\n",
    "optim = AdamW(model.parameters(), lr=5e-5)\n",
    "\n",
    "train_error = []\n",
    "val_error = []\n",
    "\n",
    "batch_size = 256\n",
    "\n",
    "for epoch in range(15):\n",
    "    print(epoch)\n",
    "    \n",
    "    epoch_average_loss_test = 0\n",
    "    for batch in val_loader:\n",
    "        input_ids = batch['input_ids'].to(device)\n",
    "        attention_mask = batch['attention_mask'].to(device)\n",
    "        labels = batch['labels'].to(device)\n",
    "        outputs = model(input_ids, attention_mask=attention_mask, labels=labels)\n",
    "        loss = outputs[0]\n",
    "        epoch_average_loss_test += loss.item() * batch_size / len(val_loader)\n",
    "    val_error.append(epoch_average_loss_test)\n",
    "    \n",
    "    epoch_average_loss_train = 0\n",
    "    for batch in train_loader:\n",
    "        optim.zero_grad()\n",
    "        input_ids = batch['input_ids'].to(device)\n",
    "        attention_mask = batch['attention_mask'].to(device)\n",
    "        labels = batch['labels'].to(device)\n",
    "        outputs = model(input_ids, attention_mask=attention_mask, labels=labels)\n",
    "        loss = outputs[0]\n",
    "        loss.backward()\n",
    "        optim.step()\n",
    "        epoch_average_loss_train += loss.item() * batch_size / len(train_loader)\n",
    "    train_error.append(epoch_average_loss_train)\n"
   ]
  },
  {
   "cell_type": "code",
   "execution_count": null,
   "metadata": {
    "execution": {
     "iopub.execute_input": "2024-04-25T13:14:41.756900Z",
     "iopub.status.busy": "2024-04-25T13:14:41.756220Z",
     "iopub.status.idle": "2024-04-25T13:14:42.129354Z",
     "shell.execute_reply": "2024-04-25T13:14:42.128228Z",
     "shell.execute_reply.started": "2024-04-25T13:14:41.756862Z"
    },
    "trusted": true
   },
   "outputs": [
    {
     "data": {
      "text/plain": [
       "Text(0.5, 1.0, 'Visualization of convergence')"
      ]
     },
     "metadata": {},
     "output_type": "display_data"
    },
    {
     "data": {
      "image/png": "[encoded data removed]",
      "text/plain": [
       "<Figure size 640x480 with 1 Axes>"
      ]
     },
     "metadata": {},
     "output_type": "display_data"
    }
   ],
   "source": [
    "import matplotlib.pyplot as plt\n",
    "\n",
    "plt.plot(range(1, len(train_error) + 1), train_error)\n",
    "plt.plot(range(1, len(train_error) + 1), val_error)\n",
    "plt.xlabel(\"num_epochs\")\n",
    "plt.ylabel(\"Train error\")\n",
    "plt.title(\"Visualization of convergence\")"
   ]
  },
  {
   "cell_type": "code",
   "execution_count": null,
   "metadata": {
    "execution": {
     "iopub.execute_input": "2024-04-25T13:16:37.133076Z",
     "iopub.status.busy": "2024-04-25T13:16:37.132611Z",
     "iopub.status.idle": "2024-04-25T13:17:10.769505Z",
     "shell.execute_reply": "2024-04-25T13:17:10.768449Z",
     "shell.execute_reply.started": "2024-04-25T13:16:37.133043Z"
    },
    "trusted": true
   },
   "outputs": [
    {
     "name": "stdout",
     "output_type": "stream",
     "text": [
      "Accuracy: 92.8%\n"
     ]
    }
   ],
   "source": [
    "test_loader = DataLoader(test_dataset, batch_size=1, shuffle=True)\n",
    "\n",
    "correct = 0\n",
    "\n",
    "for batch in test_loader:\n",
    "    input_ids = batch['input_ids'].to(device)\n",
    "    attention_mask = batch['attention_mask'].to(device)\n",
    "    labels = batch['labels'].to(device)\n",
    "    outputs = model(input_ids, attention_mask=attention_mask, labels=labels).logits\n",
    "    outputs = torch.tensor(outputs > 0, dtype=torch.float32).to(device)\n",
    "    correct += (outputs == batch['labels'].to(device)).sum() / 2\n",
    "\n",
    "print(f'Accuracy: {round(correct.item()/len(test_loader)*100, 2)}%')"
   ]
  },
  {
   "cell_type": "markdown",
   "metadata": {},
   "source": [
    "### model Word2Vec + RandomForest"
   ]
  },
  {
   "cell_type": "code",
   "execution_count": null,
   "metadata": {},
   "outputs": [
    {
     "data": {
      "text/html": [
       "<div>\n",
       "<style scoped>\n",
       "    .dataframe tbody tr th:only-of-type {\n",
       "        vertical-align: middle;\n",
       "    }\n",
       "\n",
       "    .dataframe tbody tr th {\n",
       "        vertical-align: top;\n",
       "    }\n",
       "\n",
       "    .dataframe thead th {\n",
       "        text-align: right;\n",
       "    }\n",
       "</style>\n",
       "<table border=\"1\" class=\"dataframe\">\n",
       "  <thead>\n",
       "    <tr style=\"text-align: right;\">\n",
       "      <th></th>\n",
       "      <th>text</th>\n",
       "      <th>label</th>\n",
       "      <th>text_clean</th>\n",
       "    </tr>\n",
       "  </thead>\n",
       "  <tbody>\n",
       "    <tr>\n",
       "      <th>0</th>\n",
       "      <td>Breton Cyrille menuisier 25 Garçon française</td>\n",
       "      <td>0.0</td>\n",
       "      <td>[breton, cyrille, menuisier, garçon, française]</td>\n",
       "    </tr>\n",
       "    <tr>\n",
       "      <th>1</th>\n",
       "      <td>Ferazzi Auguste vitrier 30 Garçon Piémontaise</td>\n",
       "      <td>1.0</td>\n",
       "      <td>[ferazzi, auguste, vitrier, garçon, piémontaise]</td>\n",
       "    </tr>\n",
       "    <tr>\n",
       "      <th>2</th>\n",
       "      <td>Machol Pierre vitrier 24 Garçon Piémontaise</td>\n",
       "      <td>1.0</td>\n",
       "      <td>[machol, pierre, vitrier, garçon, piémontaise]</td>\n",
       "    </tr>\n",
       "    <tr>\n",
       "      <th>3</th>\n",
       "      <td>Desbois Alexandre prop re 48 Homme marié française</td>\n",
       "      <td>1.0</td>\n",
       "      <td>[desbois, alexandre, prop, re, homme, marié, française]</td>\n",
       "    </tr>\n",
       "    <tr>\n",
       "      <th>4</th>\n",
       "      <td>Vignat Zélie prop re sa fe 30 française</td>\n",
       "      <td>0.0</td>\n",
       "      <td>[vignat, zélie, prop, re, sa, fe, française]</td>\n",
       "    </tr>\n",
       "    <tr>\n",
       "      <th>...</th>\n",
       "      <td>...</td>\n",
       "      <td>...</td>\n",
       "      <td>...</td>\n",
       "    </tr>\n",
       "    <tr>\n",
       "      <th>25076</th>\n",
       "      <td>Chameton-Dideron Marie chef 1869 idem Pailharès</td>\n",
       "      <td>1.0</td>\n",
       "      <td>[chameton, dideron, marie, chef, idem, pailharès]</td>\n",
       "    </tr>\n",
       "    <tr>\n",
       "      <th>25077</th>\n",
       "      <td>Ode Marie ouv chaus res chef Cara 1863 idem St Naz en Royans</td>\n",
       "      <td>1.0</td>\n",
       "      <td>[ode, marie, ouv, chaus, res, chef, cara, idem, st, naz, en, royans]</td>\n",
       "    </tr>\n",
       "    <tr>\n",
       "      <th>25078</th>\n",
       "      <td>Berni Nello manoeuvre chef Baretto 1886 italienne Castel</td>\n",
       "      <td>1.0</td>\n",
       "      <td>[berni, nello, manoeuvre, chef, baretto, italienne, castel]</td>\n",
       "    </tr>\n",
       "    <tr>\n",
       "      <th>25079</th>\n",
       "      <td>Berni-Laureti Annunziata épouse 1887 idem idem</td>\n",
       "      <td>0.0</td>\n",
       "      <td>[berni, laureti, annunziata, épouse, idem, idem]</td>\n",
       "    </tr>\n",
       "    <tr>\n",
       "      <th>25080</th>\n",
       "      <td>Berni Primo fils 1914 idem idem</td>\n",
       "      <td>0.0</td>\n",
       "      <td>[berni, primo, fils, idem, idem]</td>\n",
       "    </tr>\n",
       "  </tbody>\n",
       "</table>\n",
       "<p>24422 rows × 3 columns</p>\n",
       "</div>"
      ],
      "text/plain": [
       "                                                               text  label  \\\n",
       "0                      Breton Cyrille menuisier 25 Garçon française    0.0   \n",
       "1                     Ferazzi Auguste vitrier 30 Garçon Piémontaise    1.0   \n",
       "2                       Machol Pierre vitrier 24 Garçon Piémontaise    1.0   \n",
       "3                Desbois Alexandre prop re 48 Homme marié française    1.0   \n",
       "4                           Vignat Zélie prop re sa fe 30 française    0.0   \n",
       "...                                                             ...    ...   \n",
       "25076               Chameton-Dideron Marie chef 1869 idem Pailharès    1.0   \n",
       "25077  Ode Marie ouv chaus res chef Cara 1863 idem St Naz en Royans    1.0   \n",
       "25078      Berni Nello manoeuvre chef Baretto 1886 italienne Castel    1.0   \n",
       "25079                Berni-Laureti Annunziata épouse 1887 idem idem    0.0   \n",
       "25080                               Berni Primo fils 1914 idem idem    0.0   \n",
       "\n",
       "                                                                 text_clean  \n",
       "0                           [breton, cyrille, menuisier, garçon, française]  \n",
       "1                          [ferazzi, auguste, vitrier, garçon, piémontaise]  \n",
       "2                            [machol, pierre, vitrier, garçon, piémontaise]  \n",
       "3                   [desbois, alexandre, prop, re, homme, marié, française]  \n",
       "4                              [vignat, zélie, prop, re, sa, fe, française]  \n",
       "...                                                                     ...  \n",
       "25076                     [chameton, dideron, marie, chef, idem, pailharès]  \n",
       "25077  [ode, marie, ouv, chaus, res, chef, cara, idem, st, naz, en, royans]  \n",
       "25078           [berni, nello, manoeuvre, chef, baretto, italienne, castel]  \n",
       "25079                      [berni, laureti, annunziata, épouse, idem, idem]  \n",
       "25080                                      [berni, primo, fils, idem, idem]  \n",
       "\n",
       "[24422 rows x 3 columns]"
      ]
     },
     "metadata": {},
     "output_type": "display_data"
    }
   ],
   "source": [
    "# Clean data using the built in cleaner in gensim\n",
    "df['text_clean'] = df['text'].apply(lambda x: gensim.utils.simple_preprocess(x))\n",
    "df"
   ]
  },
  {
   "cell_type": "code",
   "execution_count": null,
   "metadata": {},
   "outputs": [],
   "source": [
    "# Encoding the label column\n",
    "X_train, X_test, y_train, y_test = train_test_split (df['text_clean'], df['label'] , test_size=0.2)"
   ]
  },
  {
   "cell_type": "code",
   "execution_count": null,
   "metadata": {},
   "outputs": [],
   "source": [
    "# Train the word2vec model\n",
    "w2v_model = gensim.models.Word2Vec(X_train,\n",
    "                                   vector_size=100,\n",
    "                                   window=5,\n",
    "                                   min_count=2)"
   ]
  },
  {
   "cell_type": "code",
   "execution_count": null,
   "metadata": {},
   "outputs": [],
   "source": [
    "words = set(w2v_model.wv.index_to_key)\n",
    "X_train_vect = np.array([np.array([w2v_model.wv[i] for i in ls if i in words])\n",
    "                         for ls in X_train], dtype=\"object\")\n",
    "X_test_vect = np.array([np.array([w2v_model.wv[i] for i in ls if i in words])\n",
    "                         for ls in X_test], dtype=\"object\")"
   ]
  },
  {
   "cell_type": "code",
   "execution_count": null,
   "metadata": {},
   "outputs": [],
   "source": [
    "# Compute sentence vectors by averaging the word vectors for the words contained in the sentence\n",
    "X_train_vect_avg = []\n",
    "for v in X_train_vect:\n",
    "    if v.size:\n",
    "        X_train_vect_avg.append(v.mean(axis=0))\n",
    "    else:\n",
    "        X_train_vect_avg.append(np.zeros(100, dtype=float))\n",
    "        \n",
    "X_test_vect_avg = []\n",
    "for v in X_test_vect:\n",
    "    if v.size:\n",
    "        X_test_vect_avg.append(v.mean(axis=0))\n",
    "    else:\n",
    "        X_test_vect_avg.append(np.zeros(100, dtype=float))"
   ]
  },
  {
   "cell_type": "code",
   "execution_count": null,
   "metadata": {},
   "outputs": [
    {
     "data": {
      "text/plain": [
       "19537"
      ]
     },
     "metadata": {},
     "output_type": "display_data"
    }
   ],
   "source": [
    "(y_train.notna()).sum()"
   ]
  },
  {
   "cell_type": "code",
   "execution_count": null,
   "metadata": {},
   "outputs": [],
   "source": [
    "# Instantiate and fit a basic Random Forest model on top of the vectors\n",
    "from sklearn.ensemble import RandomForestClassifier\n",
    "rf = RandomForestClassifier()\n",
    "rf_model = rf.fit(X_train_vect_avg, y_train.values.ravel())"
   ]
  },
  {
   "cell_type": "code",
   "execution_count": null,
   "metadata": {},
   "outputs": [],
   "source": [
    "# Use the trained model to make predictions on the test data\n",
    "y_pred = rf_model.predict(X_test_vect_avg)"
   ]
  },
  {
   "cell_type": "code",
   "execution_count": null,
   "metadata": {},
   "outputs": [
    {
     "name": "stdout",
     "output_type": "stream",
     "text": [
      "Precision: 0.786 / Recall: 0.848 / Accuracy: 0.913\n"
     ]
    }
   ],
   "source": [
    "from sklearn.metrics import precision_score, recall_score\n",
    "precision = precision_score(y_test, y_pred)\n",
    "recall = recall_score(y_test, y_pred)\n",
    "print('Precision: {} / Recall: {} / Accuracy: {}'.format(\n",
    "    round(precision, 3), round(recall, 3), round((y_pred==y_test).sum()/len(y_pred), 3)))"
   ]
  },
  {
   "cell_type": "markdown",
   "metadata": {},
   "source": [
    "### References"
   ]
  },
  {
   "cell_type": "markdown",
   "metadata": {},
   "source": [
    "For the first model, we followed the tutorial of hugging face given in the professor's website.\n",
    "\n",
    "For the second model, we followed the medium website code for using Word2Vec embedding combined with the random forest model. "
   ]
  },
  {
   "cell_type": "markdown",
   "metadata": {},
   "source": [
    "* https://huggingface.co/transformers/v3.2.0/custom_datasets.html#token-classification-with-w-nut-emerging-entities\n",
    "\n",
    "* https://medium.com/@dilip.voleti/classification-using-word2vec-b1d79d375381\n"
   ]
  }
 ],
 "metadata": {
  "kernelspec": {
   "display_name": "Python 3.11.4 64-bit",
   "language": "python",
   "name": "python3"
  },
  "language_info": {
   "codemirror_mode": {
    "name": "ipython",
    "version": 3
   },
   "file_extension": ".py",
   "mimetype": "text/x-python",
   "name": "python",
   "nbconvert_exporter": "python",
   "pygments_lexer": "ipython3",
   "version": "3.11.4"
  },
  "orig_nbformat": 4,
  "vscode": {
   "interpreter": {
    "hash": "aee8b7b246df8f9039afb4144a1f6fd8d2ca17a180786b69acc140d282b71a49"
   }
  }
 },
 "nbformat": 4,
 "nbformat_minor": 2
}
